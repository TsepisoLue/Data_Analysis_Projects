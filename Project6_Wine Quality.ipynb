{
 "cells": [
  {
   "cell_type": "markdown",
   "id": "27a639a4-2719-48aa-a04d-182265bb157c",
   "metadata": {},
   "source": [
    "# Wine Quality Prediction\n",
    "\n",
    "## Description\n",
    "The goal of this project is to predict the quality of wine based on its chemical characteristics, such as density, acidity, and other relevant features. This prediction can assist in real-world applications of machine learning in viticulture.\n",
    "\n",
    "## Key Concepts and Challenges\n",
    "1. **Classifier Models**: Utilizing Random Forest, Stochastic Gradient Descent (SGD), and Support Vector Classifier (SVC) for wine quality prediction.  \n",
    "2. **Chemical Qualities**: Analyzing features like density and acidity as predictors for wine quality.  \n",
    "3. **Data Analysis Libraries**: Employing Pandas for data manipulation and Numpy for array operations.  \n",
    "4. **Data Visualization**: Using Seaborn and Matplotlib for visualizing patterns and insights in the dataset.\n"
   ]
  },
  {
   "cell_type": "code",
   "execution_count": 12,
   "id": "8f432d43-b213-4af4-bb1c-8a8f41408dab",
   "metadata": {},
   "outputs": [],
   "source": [
    "import pandas as pd\n",
    "import seaborn as sns\n",
    "import matplotlib.pyplot as plt\n",
    "from sklearn.preprocessing import StandardScaler\n",
    "from sklearn.model_selection import train_test_split\n",
    "from sklearn.model_selection import GridSearchCV\n",
    "from sklearn.ensemble import RandomForestClassifier\n",
    "from sklearn.svm import SVC\n",
    "from sklearn.linear_model import SGDClassifier\n",
    "from sklearn.model_selection import cross_val_score\n",
    "from sklearn.metrics import classification_report, accuracy_score\n",
    "from sklearn.metrics import classification_report, confusion_matrix\n",
    "from imblearn.over_sampling import SMOTE"
   ]
  },
  {
   "cell_type": "markdown",
   "id": "785088db-a28a-44d2-b788-173e99cbff3c",
   "metadata": {},
   "source": [
    "## Data Loading and Cleaning\n",
    "\n",
    "In this section, we load the dataset, check for missing values, and remove duplicates. We also drop unnecessary columns, such as the `Id`, and separate features and the target variable.\n",
    "\n"
   ]
  },
  {
   "cell_type": "code",
   "execution_count": 3,
   "id": "470dbe8c-adb8-4fa3-8da9-fa6b1ac9d112",
   "metadata": {},
   "outputs": [
    {
     "data": {
      "text/html": [
       "<div>\n",
       "<style scoped>\n",
       "    .dataframe tbody tr th:only-of-type {\n",
       "        vertical-align: middle;\n",
       "    }\n",
       "\n",
       "    .dataframe tbody tr th {\n",
       "        vertical-align: top;\n",
       "    }\n",
       "\n",
       "    .dataframe thead th {\n",
       "        text-align: right;\n",
       "    }\n",
       "</style>\n",
       "<table border=\"1\" class=\"dataframe\">\n",
       "  <thead>\n",
       "    <tr style=\"text-align: right;\">\n",
       "      <th></th>\n",
       "      <th>fixed acidity</th>\n",
       "      <th>volatile acidity</th>\n",
       "      <th>citric acid</th>\n",
       "      <th>residual sugar</th>\n",
       "      <th>chlorides</th>\n",
       "      <th>free sulfur dioxide</th>\n",
       "      <th>total sulfur dioxide</th>\n",
       "      <th>density</th>\n",
       "      <th>pH</th>\n",
       "      <th>sulphates</th>\n",
       "      <th>alcohol</th>\n",
       "      <th>quality</th>\n",
       "      <th>Id</th>\n",
       "    </tr>\n",
       "  </thead>\n",
       "  <tbody>\n",
       "    <tr>\n",
       "      <th>0</th>\n",
       "      <td>7.4</td>\n",
       "      <td>0.70</td>\n",
       "      <td>0.00</td>\n",
       "      <td>1.9</td>\n",
       "      <td>0.076</td>\n",
       "      <td>11.0</td>\n",
       "      <td>34.0</td>\n",
       "      <td>0.9978</td>\n",
       "      <td>3.51</td>\n",
       "      <td>0.56</td>\n",
       "      <td>9.4</td>\n",
       "      <td>5</td>\n",
       "      <td>0</td>\n",
       "    </tr>\n",
       "    <tr>\n",
       "      <th>1</th>\n",
       "      <td>7.8</td>\n",
       "      <td>0.88</td>\n",
       "      <td>0.00</td>\n",
       "      <td>2.6</td>\n",
       "      <td>0.098</td>\n",
       "      <td>25.0</td>\n",
       "      <td>67.0</td>\n",
       "      <td>0.9968</td>\n",
       "      <td>3.20</td>\n",
       "      <td>0.68</td>\n",
       "      <td>9.8</td>\n",
       "      <td>5</td>\n",
       "      <td>1</td>\n",
       "    </tr>\n",
       "    <tr>\n",
       "      <th>2</th>\n",
       "      <td>7.8</td>\n",
       "      <td>0.76</td>\n",
       "      <td>0.04</td>\n",
       "      <td>2.3</td>\n",
       "      <td>0.092</td>\n",
       "      <td>15.0</td>\n",
       "      <td>54.0</td>\n",
       "      <td>0.9970</td>\n",
       "      <td>3.26</td>\n",
       "      <td>0.65</td>\n",
       "      <td>9.8</td>\n",
       "      <td>5</td>\n",
       "      <td>2</td>\n",
       "    </tr>\n",
       "    <tr>\n",
       "      <th>3</th>\n",
       "      <td>11.2</td>\n",
       "      <td>0.28</td>\n",
       "      <td>0.56</td>\n",
       "      <td>1.9</td>\n",
       "      <td>0.075</td>\n",
       "      <td>17.0</td>\n",
       "      <td>60.0</td>\n",
       "      <td>0.9980</td>\n",
       "      <td>3.16</td>\n",
       "      <td>0.58</td>\n",
       "      <td>9.8</td>\n",
       "      <td>6</td>\n",
       "      <td>3</td>\n",
       "    </tr>\n",
       "    <tr>\n",
       "      <th>4</th>\n",
       "      <td>7.4</td>\n",
       "      <td>0.70</td>\n",
       "      <td>0.00</td>\n",
       "      <td>1.9</td>\n",
       "      <td>0.076</td>\n",
       "      <td>11.0</td>\n",
       "      <td>34.0</td>\n",
       "      <td>0.9978</td>\n",
       "      <td>3.51</td>\n",
       "      <td>0.56</td>\n",
       "      <td>9.4</td>\n",
       "      <td>5</td>\n",
       "      <td>4</td>\n",
       "    </tr>\n",
       "  </tbody>\n",
       "</table>\n",
       "</div>"
      ],
      "text/plain": [
       "   fixed acidity  volatile acidity  citric acid  residual sugar  chlorides  \\\n",
       "0            7.4              0.70         0.00             1.9      0.076   \n",
       "1            7.8              0.88         0.00             2.6      0.098   \n",
       "2            7.8              0.76         0.04             2.3      0.092   \n",
       "3           11.2              0.28         0.56             1.9      0.075   \n",
       "4            7.4              0.70         0.00             1.9      0.076   \n",
       "\n",
       "   free sulfur dioxide  total sulfur dioxide  density    pH  sulphates  \\\n",
       "0                 11.0                  34.0   0.9978  3.51       0.56   \n",
       "1                 25.0                  67.0   0.9968  3.20       0.68   \n",
       "2                 15.0                  54.0   0.9970  3.26       0.65   \n",
       "3                 17.0                  60.0   0.9980  3.16       0.58   \n",
       "4                 11.0                  34.0   0.9978  3.51       0.56   \n",
       "\n",
       "   alcohol  quality  Id  \n",
       "0      9.4        5   0  \n",
       "1      9.8        5   1  \n",
       "2      9.8        5   2  \n",
       "3      9.8        6   3  \n",
       "4      9.4        5   4  "
      ]
     },
     "execution_count": 3,
     "metadata": {},
     "output_type": "execute_result"
    }
   ],
   "source": [
    "#load dataset\n",
    "file_path='C:/Users/ADMIN/Desktop/WORK/Jobs/Oasis_Internship/WineQT.csv'\n",
    "df=pd.read_csv(file_path)\n",
    "df.head()"
   ]
  },
  {
   "cell_type": "code",
   "execution_count": 4,
   "id": "8aff60fe-2eb9-4216-8244-644e8baa0546",
   "metadata": {},
   "outputs": [
    {
     "name": "stdout",
     "output_type": "stream",
     "text": [
      "Missing Values: \n",
      "fixed acidity           0\n",
      "volatile acidity        0\n",
      "citric acid             0\n",
      "residual sugar          0\n",
      "chlorides               0\n",
      "free sulfur dioxide     0\n",
      "total sulfur dioxide    0\n",
      "density                 0\n",
      "pH                      0\n",
      "sulphates               0\n",
      "alcohol                 0\n",
      "quality                 0\n",
      "Id                      0\n",
      "dtype: int64\n",
      "Number of duplicate rows: 0\n",
      "\n",
      "Dataset Infomation:\n",
      "<class 'pandas.core.frame.DataFrame'>\n",
      "RangeIndex: 1143 entries, 0 to 1142\n",
      "Data columns (total 13 columns):\n",
      " #   Column                Non-Null Count  Dtype  \n",
      "---  ------                --------------  -----  \n",
      " 0   fixed acidity         1143 non-null   float64\n",
      " 1   volatile acidity      1143 non-null   float64\n",
      " 2   citric acid           1143 non-null   float64\n",
      " 3   residual sugar        1143 non-null   float64\n",
      " 4   chlorides             1143 non-null   float64\n",
      " 5   free sulfur dioxide   1143 non-null   float64\n",
      " 6   total sulfur dioxide  1143 non-null   float64\n",
      " 7   density               1143 non-null   float64\n",
      " 8   pH                    1143 non-null   float64\n",
      " 9   sulphates             1143 non-null   float64\n",
      " 10  alcohol               1143 non-null   float64\n",
      " 11  quality               1143 non-null   int64  \n",
      " 12  Id                    1143 non-null   int64  \n",
      "dtypes: float64(11), int64(2)\n",
      "memory usage: 116.2 KB\n",
      "None\n",
      "\n",
      "Quality distribution:\n",
      "quality\n",
      "5    483\n",
      "6    462\n",
      "7    143\n",
      "4     33\n",
      "8     16\n",
      "3      6\n",
      "Name: count, dtype: int64\n"
     ]
    }
   ],
   "source": [
    "# Cleaning data\n",
    "## Check for missing values\n",
    "print('Missing Values: ')\n",
    "print(df.isnull().sum())\n",
    "# Duplicates\n",
    "print(f'Number of duplicate rows: {df.duplicated().sum()}')\n",
    "#Remove duplicates\n",
    "df.drop_duplicates(inplace=True)\n",
    "# Data types\n",
    "print(\"\\nDataset Infomation:\")\n",
    "print(df.info())\n",
    "# Check the distribution of the quality scores\n",
    "print(\"\\nQuality distribution:\")\n",
    "print(df['quality'].value_counts())"
   ]
  },
  {
   "cell_type": "markdown",
   "id": "e8655f79-01ae-4104-beb1-5b04c07cbaa9",
   "metadata": {},
   "source": [
    "### Drop unnecessary columns and separate features/target\n",
    "The `Id` column is irrelevant to the prediction, so we drop it. We then separate the features and target variables."
   ]
  },
  {
   "cell_type": "code",
   "execution_count": null,
   "id": "50b2dd17-fa05-46d2-a8fd-92363a638642",
   "metadata": {},
   "outputs": [],
   "source": [
    "# Drop the 'Id' column as it's not necessary for prediction\n",
    "df = df.drop(columns=['Id'])\n",
    "\n"
   ]
  },
  {
   "cell_type": "markdown",
   "id": "97c2fd24-8150-4f3f-9b6f-9dffe497b656",
   "metadata": {},
   "source": [
    "## Feature Scaling\n",
    "To ensure that all features are on the same scale, we apply **StandardScaler** to scale the features before feeding them into the models."
   ]
  },
  {
   "cell_type": "code",
   "execution_count": null,
   "id": "14ba07c5-5815-4598-bf91-f93d55d54bb2",
   "metadata": {},
   "outputs": [
    {
     "name": "stdout",
     "output_type": "stream",
     "text": [
      "\n",
      "First few rows of scaled features:\n",
      "[[-0.52157961  0.93933222 -1.36502663 -0.46642142 -0.23139486 -0.45046702\n",
      "  -0.3636101   0.55585438  1.27069495 -0.57365783 -0.96338181]\n",
      " [-0.29259344  1.94181282 -1.36502663  0.05006018  0.23424656  0.91591972\n",
      "   0.64347653  0.03616459 -0.70892755  0.1308811  -0.59360107]\n",
      " [-0.29259344  1.27349242 -1.16156762 -0.17128908  0.10725344 -0.06007081\n",
      "   0.24674544  0.14010255 -0.32577481 -0.04525363 -0.59360107]\n",
      " [ 1.65378902 -1.39978919  1.48339955 -0.46642142 -0.25256038  0.1351273\n",
      "   0.4298521   0.65979234 -0.96436271 -0.45623467 -0.59360107]\n",
      " [-0.52157961  0.93933222 -1.36502663 -0.46642142 -0.23139486 -0.45046702\n",
      "  -0.3636101   0.55585438  1.27069495 -0.57365783 -0.96338181]]\n"
     ]
    }
   ],
   "source": [
    "# Separate features and target\n",
    "X = df.drop(columns=['quality'])\n",
    "y = df['quality']\n",
    "\n",
    "# Scale the features using StandardScaler\n",
    "scaler = StandardScaler()\n",
    "X_scaled = scaler.fit_transform(X)\n",
    "\n",
    "# Show the first few rows of the scaled features\n",
    "print(\"\\nFirst few rows of scaled features:\")\n",
    "print(X_scaled[:5])\n",
    "\n",
    "# Split the dataset into training and test sets (80% training, 20% testing)\n",
    "X_train, X_test, y_train, y_test = train_test_split(X, y, test_size=0.2, random_state=42)"
   ]
  },
  {
   "cell_type": "markdown",
   "id": "b1bf252d-4985-4ad6-8118-4b4f0f591f73",
   "metadata": {},
   "source": [
    "## Model Training\n",
    "\n",
    "We train three different classifiers to predict wine quality: **Random Forest**, **Stochastic Gradient Descent (SGD)**, and **Support Vector Classifier (SVC)**.\n",
    "\n",
    "### Random Forest Classifier"
   ]
  },
  {
   "cell_type": "code",
   "execution_count": 6,
   "id": "6b6c3bc4-310f-4d86-9484-51df3174818b",
   "metadata": {},
   "outputs": [
    {
     "name": "stdout",
     "output_type": "stream",
     "text": [
      "Random Forest Classifier:\n",
      "Accuracy: 0.7030567685589519\n",
      "              precision    recall  f1-score   support\n",
      "\n",
      "           4       0.00      0.00      0.00         6\n",
      "           5       0.72      0.80      0.76        96\n",
      "           6       0.68      0.67      0.67        99\n",
      "           7       0.72      0.69      0.71        26\n",
      "           8       0.00      0.00      0.00         2\n",
      "\n",
      "    accuracy                           0.70       229\n",
      "   macro avg       0.42      0.43      0.43       229\n",
      "weighted avg       0.68      0.70      0.69       229\n",
      "\n"
     ]
    },
    {
     "name": "stderr",
     "output_type": "stream",
     "text": [
      "C:\\Users\\ADMIN\\.conda\\envs\\creatingPythonEnv\\Lib\\site-packages\\sklearn\\metrics\\_classification.py:1531: UndefinedMetricWarning: Precision is ill-defined and being set to 0.0 in labels with no predicted samples. Use `zero_division` parameter to control this behavior.\n",
      "  _warn_prf(average, modifier, f\"{metric.capitalize()} is\", len(result))\n",
      "C:\\Users\\ADMIN\\.conda\\envs\\creatingPythonEnv\\Lib\\site-packages\\sklearn\\metrics\\_classification.py:1531: UndefinedMetricWarning: Precision is ill-defined and being set to 0.0 in labels with no predicted samples. Use `zero_division` parameter to control this behavior.\n",
      "  _warn_prf(average, modifier, f\"{metric.capitalize()} is\", len(result))\n",
      "C:\\Users\\ADMIN\\.conda\\envs\\creatingPythonEnv\\Lib\\site-packages\\sklearn\\metrics\\_classification.py:1531: UndefinedMetricWarning: Precision is ill-defined and being set to 0.0 in labels with no predicted samples. Use `zero_division` parameter to control this behavior.\n",
      "  _warn_prf(average, modifier, f\"{metric.capitalize()} is\", len(result))\n"
     ]
    }
   ],
   "source": [
    "#Training the Models\n",
    "# Initialize the Random Forest classifier\n",
    "rf = RandomForestClassifier(random_state=42)\n",
    "\n",
    "# Train the model\n",
    "rf.fit(X_train, y_train)\n",
    "\n",
    "# Predict on the test set\n",
    "y_pred_rf = rf.predict(X_test)\n",
    "\n",
    "# Evaluate the model\n",
    "print(\"Random Forest Classifier:\")\n",
    "print(f\"Accuracy: {accuracy_score(y_test, y_pred_rf)}\")\n",
    "print(classification_report(y_test, y_pred_rf))"
   ]
  },
  {
   "cell_type": "markdown",
   "id": "689620d9-a837-4fad-b6fa-f16e5845d720",
   "metadata": {},
   "source": [
    "### Stochastic Gradient Descent (SGD) Classifier"
   ]
  },
  {
   "cell_type": "code",
   "execution_count": 7,
   "id": "df57f85d-b5ce-4f41-9953-b8ef63ec49c0",
   "metadata": {},
   "outputs": [
    {
     "name": "stdout",
     "output_type": "stream",
     "text": [
      "Stochastic Gradient Descent (SGD):\n",
      "Accuracy: 0.4585152838427948\n",
      "              precision    recall  f1-score   support\n",
      "\n",
      "           4       0.00      0.00      0.00         6\n",
      "           5       0.46      0.98      0.63        96\n",
      "           6       0.56      0.05      0.09        99\n",
      "           7       0.38      0.23      0.29        26\n",
      "           8       0.00      0.00      0.00         2\n",
      "\n",
      "    accuracy                           0.46       229\n",
      "   macro avg       0.28      0.25      0.20       229\n",
      "weighted avg       0.48      0.46      0.34       229\n",
      "\n"
     ]
    },
    {
     "name": "stderr",
     "output_type": "stream",
     "text": [
      "C:\\Users\\ADMIN\\.conda\\envs\\creatingPythonEnv\\Lib\\site-packages\\sklearn\\metrics\\_classification.py:1531: UndefinedMetricWarning: Precision is ill-defined and being set to 0.0 in labels with no predicted samples. Use `zero_division` parameter to control this behavior.\n",
      "  _warn_prf(average, modifier, f\"{metric.capitalize()} is\", len(result))\n",
      "C:\\Users\\ADMIN\\.conda\\envs\\creatingPythonEnv\\Lib\\site-packages\\sklearn\\metrics\\_classification.py:1531: UndefinedMetricWarning: Precision is ill-defined and being set to 0.0 in labels with no predicted samples. Use `zero_division` parameter to control this behavior.\n",
      "  _warn_prf(average, modifier, f\"{metric.capitalize()} is\", len(result))\n",
      "C:\\Users\\ADMIN\\.conda\\envs\\creatingPythonEnv\\Lib\\site-packages\\sklearn\\metrics\\_classification.py:1531: UndefinedMetricWarning: Precision is ill-defined and being set to 0.0 in labels with no predicted samples. Use `zero_division` parameter to control this behavior.\n",
      "  _warn_prf(average, modifier, f\"{metric.capitalize()} is\", len(result))\n"
     ]
    }
   ],
   "source": [
    "# Initialize the SGD classifier\n",
    "sgd = SGDClassifier(random_state=42)\n",
    "\n",
    "# Train the model\n",
    "sgd.fit(X_train, y_train)\n",
    "\n",
    "# Predict on the test set\n",
    "y_pred_sgd = sgd.predict(X_test)\n",
    "\n",
    "# Evaluate the model\n",
    "print(\"Stochastic Gradient Descent (SGD):\")\n",
    "print(f\"Accuracy: {accuracy_score(y_test, y_pred_sgd)}\")\n",
    "print(classification_report(y_test, y_pred_sgd))"
   ]
  },
  {
   "cell_type": "markdown",
   "id": "b8ad6079-8e38-4c71-a72e-d8dfb5cb009f",
   "metadata": {},
   "source": [
    "### Support Vector Classifier (SVC)"
   ]
  },
  {
   "cell_type": "code",
   "execution_count": 8,
   "id": "1b66dd64-ea71-4b26-a869-8673bcd3ac31",
   "metadata": {},
   "outputs": [
    {
     "name": "stdout",
     "output_type": "stream",
     "text": [
      "Support Vector Classifier (SVC):\n",
      "Accuracy: 0.5633187772925764\n",
      "              precision    recall  f1-score   support\n",
      "\n",
      "           4       0.00      0.00      0.00         6\n",
      "           5       0.73      0.43      0.54        96\n",
      "           6       0.51      0.88      0.64        99\n",
      "           7       1.00      0.04      0.07        26\n",
      "           8       0.00      0.00      0.00         2\n",
      "\n",
      "    accuracy                           0.56       229\n",
      "   macro avg       0.45      0.27      0.25       229\n",
      "weighted avg       0.64      0.56      0.51       229\n",
      "\n"
     ]
    },
    {
     "name": "stderr",
     "output_type": "stream",
     "text": [
      "C:\\Users\\ADMIN\\.conda\\envs\\creatingPythonEnv\\Lib\\site-packages\\sklearn\\metrics\\_classification.py:1531: UndefinedMetricWarning: Precision is ill-defined and being set to 0.0 in labels with no predicted samples. Use `zero_division` parameter to control this behavior.\n",
      "  _warn_prf(average, modifier, f\"{metric.capitalize()} is\", len(result))\n",
      "C:\\Users\\ADMIN\\.conda\\envs\\creatingPythonEnv\\Lib\\site-packages\\sklearn\\metrics\\_classification.py:1531: UndefinedMetricWarning: Precision is ill-defined and being set to 0.0 in labels with no predicted samples. Use `zero_division` parameter to control this behavior.\n",
      "  _warn_prf(average, modifier, f\"{metric.capitalize()} is\", len(result))\n",
      "C:\\Users\\ADMIN\\.conda\\envs\\creatingPythonEnv\\Lib\\site-packages\\sklearn\\metrics\\_classification.py:1531: UndefinedMetricWarning: Precision is ill-defined and being set to 0.0 in labels with no predicted samples. Use `zero_division` parameter to control this behavior.\n",
      "  _warn_prf(average, modifier, f\"{metric.capitalize()} is\", len(result))\n"
     ]
    }
   ],
   "source": [
    "# Initialize the SVC classifier\n",
    "svc = SVC(random_state=42)\n",
    "\n",
    "# Train the model\n",
    "svc.fit(X_train, y_train)\n",
    "\n",
    "# Predict on the test set\n",
    "y_pred_svc = svc.predict(X_test)\n",
    "\n",
    "# Evaluate the model\n",
    "print(\"Support Vector Classifier (SVC):\")\n",
    "print(f\"Accuracy: {accuracy_score(y_test, y_pred_svc)}\")\n",
    "print(classification_report(y_test, y_pred_svc))"
   ]
  },
  {
   "cell_type": "markdown",
   "id": "f6576c1e-24dc-46b1-bea0-674c02c41ec9",
   "metadata": {},
   "source": [
    "## Addressing imbalance\n",
    "We will Apply SMOTE to handle class imbalance"
   ]
  },
  {
   "cell_type": "code",
   "execution_count": 9,
   "id": "6a7218c9-e885-4867-b9da-b77520660118",
   "metadata": {},
   "outputs": [
    {
     "name": "stdout",
     "output_type": "stream",
     "text": [
      "Original class distribution:\n",
      "quality\n",
      "5    483\n",
      "6    462\n",
      "7    143\n",
      "4     33\n",
      "8     16\n",
      "3      6\n",
      "Name: count, dtype: int64\n",
      "Resampled class distribution:\n",
      "quality\n",
      "5    483\n",
      "6    483\n",
      "7    483\n",
      "4    483\n",
      "8    483\n",
      "3    483\n",
      "Name: count, dtype: int64\n"
     ]
    }
   ],
   "source": [
    "smote = SMOTE(random_state=42)\n",
    "X_resampled, y_resampled = smote.fit_resample(X, y)\n",
    "\n",
    "# Check the new class distribution\n",
    "print(f\"Original class distribution:\\n{y.value_counts()}\")\n",
    "print(f\"Resampled class distribution:\\n{y_resampled.value_counts()}\")"
   ]
  },
  {
   "cell_type": "markdown",
   "id": "7e2d2748-cba5-4318-9272-bcb05a595760",
   "metadata": {},
   "source": [
    "## Define models\n",
    "\n",
    "We define three machine learning models: RandomForestClassifier, SVC, and SGDClassifier. These models will be trained and evaluated on the resampled dataset."
   ]
  },
  {
   "cell_type": "code",
   "execution_count": null,
   "id": "6e346774-b7b8-413d-b17d-5c385c62032f",
   "metadata": {},
   "outputs": [],
   "source": [
    "\n",
    "rf = RandomForestClassifier(random_state=42)\n",
    "svc = SVC(random_state=42)\n",
    "sgd = SGDClassifier(random_state=42)\n",
    "\n",
    "# Hyperparameter grid for Random Forest\n",
    "rf_param_grid = {\n",
    "    'n_estimators': [50, 100, 150],\n",
    "    'max_depth': [10, 20, None],\n",
    "    'min_samples_split': [2, 5, 10]\n",
    "}\n",
    "\n",
    "# Hyperparameter grid for SVC\n",
    "svc_param_grid = {\n",
    "    'C': [0.1, 1, 10],\n",
    "    'kernel': ['linear', 'rbf'],\n",
    "    'gamma': ['scale', 'auto']\n",
    "}\n",
    "\n",
    "# Hyperparameter grid for SGD\n",
    "sgd_param_grid = {\n",
    "    'loss': ['hinge', 'log', 'squared_hinge'],\n",
    "    'penalty': ['l2', 'l1'],\n",
    "    'alpha': [0.0001, 0.001]\n",
    "}"
   ]
  },
  {
   "cell_type": "markdown",
   "id": "623c380d-a73b-4f96-9ea4-f8cd06fdba71",
   "metadata": {},
   "source": [
    "## Model Tuning using GridSearchCV\n",
    "\n",
    "We now perform GridSearchCV on each model using the hyperparameter grids defined earlier. This will search through all combinations of parameters and select the best one based on accuracy using cross-validation."
   ]
  },
  {
   "cell_type": "code",
   "execution_count": null,
   "id": "30201a16-76ef-420b-aee4-b7709dac659d",
   "metadata": {},
   "outputs": [
    {
     "name": "stderr",
     "output_type": "stream",
     "text": [
      "C:\\Users\\ADMIN\\.conda\\envs\\creatingPythonEnv\\Lib\\site-packages\\sklearn\\model_selection\\_validation.py:540: FitFailedWarning: \n",
      "20 fits failed out of a total of 60.\n",
      "The score on these train-test partitions for these parameters will be set to nan.\n",
      "If these failures are not expected, you can try to debug them by setting error_score='raise'.\n",
      "\n",
      "Below are more details about the failures:\n",
      "--------------------------------------------------------------------------------\n",
      "20 fits failed with the following error:\n",
      "Traceback (most recent call last):\n",
      "  File \"C:\\Users\\ADMIN\\.conda\\envs\\creatingPythonEnv\\Lib\\site-packages\\sklearn\\model_selection\\_validation.py\", line 888, in _fit_and_score\n",
      "    estimator.fit(X_train, y_train, **fit_params)\n",
      "  File \"C:\\Users\\ADMIN\\.conda\\envs\\creatingPythonEnv\\Lib\\site-packages\\sklearn\\base.py\", line 1466, in wrapper\n",
      "    estimator._validate_params()\n",
      "  File \"C:\\Users\\ADMIN\\.conda\\envs\\creatingPythonEnv\\Lib\\site-packages\\sklearn\\base.py\", line 666, in _validate_params\n",
      "    validate_parameter_constraints(\n",
      "  File \"C:\\Users\\ADMIN\\.conda\\envs\\creatingPythonEnv\\Lib\\site-packages\\sklearn\\utils\\_param_validation.py\", line 95, in validate_parameter_constraints\n",
      "    raise InvalidParameterError(\n",
      "sklearn.utils._param_validation.InvalidParameterError: The 'loss' parameter of SGDClassifier must be a str among {'squared_hinge', 'perceptron', 'modified_huber', 'squared_error', 'huber', 'epsilon_insensitive', 'log_loss', 'hinge', 'squared_epsilon_insensitive'}. Got 'log' instead.\n",
      "\n",
      "  warnings.warn(some_fits_failed_message, FitFailedWarning)\n",
      "C:\\Users\\ADMIN\\.conda\\envs\\creatingPythonEnv\\Lib\\site-packages\\sklearn\\model_selection\\_search.py:1102: UserWarning: One or more of the test scores are non-finite: [0.33919778 0.42819368        nan        nan 0.30024358 0.460617\n",
      " 0.33434161 0.43790602        nan        nan 0.33058484 0.43338455]\n",
      "  warnings.warn(\n"
     ]
    },
    {
     "name": "stdout",
     "output_type": "stream",
     "text": [
      "Best parameters for Random Forest: {'max_depth': 20, 'min_samples_split': 2, 'n_estimators': 150}\n",
      "Best parameters for SVC: {'C': 10, 'gamma': 'auto', 'kernel': 'rbf'}\n",
      "Best parameters for SGD: {'alpha': 0.0001, 'loss': 'squared_hinge', 'penalty': 'l1'}\n",
      "Random Forest CV Accuracy: 0.8140086951342982\n",
      "SVC CV Accuracy: 0.7594836519564052\n",
      "SGD CV Accuracy: 0.46061699720088145\n"
     ]
    }
   ],
   "source": [
    "# GridSearchCV for Random Forest\n",
    "rf_grid = GridSearchCV(rf, rf_param_grid, cv=5, scoring='accuracy')\n",
    "rf_grid.fit(X_resampled, y_resampled)\n",
    "\n",
    "# GridSearchCV for SVC\n",
    "svc_grid = GridSearchCV(svc, svc_param_grid, cv=5, scoring='accuracy')\n",
    "svc_grid.fit(X_resampled, y_resampled)\n",
    "\n",
    "# GridSearchCV for SGD\n",
    "sgd_grid = GridSearchCV(sgd, sgd_param_grid, cv=5, scoring='accuracy')\n",
    "sgd_grid.fit(X_resampled, y_resampled)\n",
    "\n",
    "# Output best parameters for each model\n",
    "print(f\"Best parameters for Random Forest: {rf_grid.best_params_}\")\n",
    "print(f\"Best parameters for SVC: {svc_grid.best_params_}\")\n",
    "print(f\"Best parameters for SGD: {sgd_grid.best_params_}\")\n",
    "\n",
    "# Cross-validation for model performance\n",
    "rf_cv_scores = cross_val_score(rf_grid.best_estimator_, X_resampled, y_resampled, cv=5)\n",
    "svc_cv_scores = cross_val_score(svc_grid.best_estimator_, X_resampled, y_resampled, cv=5)\n",
    "sgd_cv_scores = cross_val_score(sgd_grid.best_estimator_, X_resampled, y_resampled, cv=5)\n",
    "\n",
    "print(f\"Random Forest CV Accuracy: {rf_cv_scores.mean()}\")\n",
    "print(f\"SVC CV Accuracy: {svc_cv_scores.mean()}\")\n",
    "print(f\"SGD CV Accuracy: {sgd_cv_scores.mean()}\")"
   ]
  },
  {
   "cell_type": "markdown",
   "id": "437ebbb5-51e6-4961-9074-e9d85162418a",
   "metadata": {},
   "source": [
    "## Random Forest, SVC and SGD Evaluation\n",
    "\n",
    "In this section, we evaluate the performance of the three models: **Random Forest**, **Support Vector Classifier (SVC)**, and **Stochastic Gradient Descent (SGD)**. \n",
    "\n",
    "- **Random Forest** is evaluated using its **classification report**, which includes key metrics such as precision, recall, and F1-score, as well as the **confusion matrix** to visualize the true and false positives/negatives for each class.\n",
    "- **SVC** is evaluated similarly, with its own **classification report** and **confusion matrix** to assess its accuracy and performance in classifying the data.\n",
    "- **SGD** is also evaluated using the same process, providing insights into its performance based on various classification metrics and its confusion matrix.\n",
    "\n",
    "By comparing the evaluation results, we can determine which model performs best for the given task and dataset.\n"
   ]
  },
  {
   "cell_type": "code",
   "execution_count": 17,
   "id": "58273622-e2a8-49cb-8a26-37a0fa8ae59f",
   "metadata": {},
   "outputs": [
    {
     "name": "stdout",
     "output_type": "stream",
     "text": [
      "Random Forest Classification Report:\n",
      "              precision    recall  f1-score   support\n",
      "\n",
      "           3       1.00      1.00      1.00       483\n",
      "           4       1.00      1.00      1.00       483\n",
      "           5       1.00      1.00      1.00       483\n",
      "           6       1.00      1.00      1.00       483\n",
      "           7       1.00      1.00      1.00       483\n",
      "           8       1.00      1.00      1.00       483\n",
      "\n",
      "    accuracy                           1.00      2898\n",
      "   macro avg       1.00      1.00      1.00      2898\n",
      "weighted avg       1.00      1.00      1.00      2898\n",
      "\n"
     ]
    },
    {
     "data": {
      "image/png": "[encoded data removed]",
      "text/plain": [
       "<Figure size 640x480 with 2 Axes>"
      ]
     },
     "metadata": {},
     "output_type": "display_data"
    },
    {
     "name": "stdout",
     "output_type": "stream",
     "text": [
      "SVC Classification Report:\n",
      "              precision    recall  f1-score   support\n",
      "\n",
      "           3       0.97      1.00      0.98       483\n",
      "           4       0.98      0.98      0.98       483\n",
      "           5       0.96      0.93      0.94       483\n",
      "           6       0.94      0.92      0.93       483\n",
      "           7       0.97      0.98      0.97       483\n",
      "           8       0.97      0.99      0.98       483\n",
      "\n",
      "    accuracy                           0.97      2898\n",
      "   macro avg       0.96      0.97      0.96      2898\n",
      "weighted avg       0.96      0.97      0.96      2898\n",
      "\n"
     ]
    },
    {
     "data": {
      "image/png": "[encoded data removed]",
      "text/plain": [
       "<Figure size 640x480 with 2 Axes>"
      ]
     },
     "metadata": {},
     "output_type": "display_data"
    },
    {
     "name": "stdout",
     "output_type": "stream",
     "text": [
      "SGD Classification Report:\n",
      "              precision    recall  f1-score   support\n",
      "\n",
      "           3       0.85      0.61      0.71       483\n",
      "           4       0.30      0.81      0.44       483\n",
      "           5       0.67      0.13      0.22       483\n",
      "           6       0.25      0.26      0.25       483\n",
      "           7       0.58      0.12      0.20       483\n",
      "           8       0.58      0.63      0.61       483\n",
      "\n",
      "    accuracy                           0.43      2898\n",
      "   macro avg       0.54      0.43      0.41      2898\n",
      "weighted avg       0.54      0.43      0.41      2898\n",
      "\n"
     ]
    },
    {
     "data": {
      "image/png": "[encoded data removed]",
      "text/plain": [
       "<Figure size 640x480 with 2 Axes>"
      ]
     },
     "metadata": {},
     "output_type": "display_data"
    }
   ],
   "source": [
    "# Evaluate Random Forest\n",
    "rf_pred = rf_grid.best_estimator_.predict(X_resampled)\n",
    "print(\"Random Forest Classification Report:\")\n",
    "print(classification_report(y_resampled, rf_pred))\n",
    "\n",
    "# Confusion matrix for Random Forest\n",
    "rf_cm = confusion_matrix(y_resampled, rf_pred)\n",
    "sns.heatmap(rf_cm, annot=True, fmt='d', cmap='Blues', xticklabels=range(3, 9), yticklabels=range(3, 9))\n",
    "plt.title('Random Forest Confusion Matrix')\n",
    "plt.show()\n",
    "\n",
    "# Evaluate SVC\n",
    "svc_pred = svc_grid.best_estimator_.predict(X_resampled)\n",
    "print(\"SVC Classification Report:\")\n",
    "print(classification_report(y_resampled, svc_pred))\n",
    "\n",
    "# Confusion matrix for SVC\n",
    "svc_cm = confusion_matrix(y_resampled, svc_pred)\n",
    "sns.heatmap(svc_cm, annot=True, fmt='d', cmap='Blues', xticklabels=range(3, 9), yticklabels=range(3, 9))\n",
    "plt.title('SVC Confusion Matrix')\n",
    "plt.show()\n",
    "\n",
    "# Evaluate SGD\n",
    "sgd_pred = sgd_grid.best_estimator_.predict(X_resampled)\n",
    "print(\"SGD Classification Report:\")\n",
    "print(classification_report(y_resampled, sgd_pred))\n",
    "\n",
    "# Confusion matrix for SGD\n",
    "sgd_cm = confusion_matrix(y_resampled, sgd_pred)\n",
    "sns.heatmap(sgd_cm, annot=True, fmt='d', cmap='Blues', xticklabels=range(3, 9), yticklabels=range(3, 9))\n",
    "plt.title('SGD Confusion Matrix')\n",
    "plt.show()"
   ]
  },
  {
   "cell_type": "markdown",
   "id": "e4ac1282-cc06-4eea-8771-cf0148655263",
   "metadata": {},
   "source": [
    "## Analyze Chemical Features\n",
    "\n",
    "In this section, we analyze the importance of each feature used in training the **Random Forest** model. We extract the feature importances from the best-fitted model obtained through the grid search. "
   ]
  },
  {
   "cell_type": "code",
   "execution_count": 19,
   "id": "5c618ce0-e4f2-472c-a0aa-db430464943b",
   "metadata": {},
   "outputs": [
    {
     "name": "stderr",
     "output_type": "stream",
     "text": [
      "C:\\Users\\ADMIN\\AppData\\Local\\Temp\\ipykernel_17060\\1880052770.py:12: FutureWarning: \n",
      "\n",
      "Passing `palette` without assigning `hue` is deprecated and will be removed in v0.14.0. Assign the `y` variable to `hue` and set `legend=False` for the same effect.\n",
      "\n",
      "  sns.barplot(data=importance_df, x='Importance', y='Feature', palette='viridis')\n"
     ]
    },
    {
     "data": {
      "image/png": "[encoded data removed]",
      "text/plain": [
       "<Figure size 1000x600 with 1 Axes>"
      ]
     },
     "metadata": {},
     "output_type": "display_data"
    }
   ],
   "source": [
    "# Analyze Chemical Features\n",
    "# Get feature importance from the best-fitted Random Forest model\n",
    "feature_importances = rf_grid.best_estimator_.feature_importances_\n",
    "features = X.columns  # Ensure X is the DataFrame of input features used for training\n",
    "\n",
    "# Create a DataFrame for visualization\n",
    "importance_df = pd.DataFrame({'Feature': features, 'Importance': feature_importances})\n",
    "importance_df = importance_df.sort_values(by='Importance', ascending=False)\n",
    "\n",
    "# Plot the feature importance\n",
    "plt.figure(figsize=(10, 6))\n",
    "sns.barplot(data=importance_df, x='Importance', y='Feature', palette='viridis')\n",
    "plt.title('Feature Importance from Random Forest')\n",
    "plt.xlabel('Importance Score')\n",
    "plt.ylabel('Feature')\n",
    "plt.show()\n"
   ]
  }
 ],
 "metadata": {
  "kernelspec": {
   "display_name": "Python 3 (ipykernel)",
   "language": "python",
   "name": "python3"
  },
  "language_info": {
   "codemirror_mode": {
    "name": "ipython",
    "version": 3
   },
   "file_extension": ".py",
   "mimetype": "text/x-python",
   "name": "python",
   "nbconvert_exporter": "python",
   "pygments_lexer": "ipython3",
   "version": "3.12.3"
  }
 },
 "nbformat": 4,
 "nbformat_minor": 5
}
