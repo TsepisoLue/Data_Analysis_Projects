{
 "cells": [
  {
   "cell_type": "markdown",
   "id": "65ccf23a-8c49-4511-939e-77afb1902281",
   "metadata": {},
   "source": [
    "# **Data Cleaning: An Essential Part of Data Analysis**\n",
    "\n",
    "Data cleaning is the process of fixing or removing incorrect, corrupted, duplicate, or incomplete data within a dataset. Messy data leads to unreliable outcomes, and cleaning data is an essential part of data analysis. Demonstrating your data cleaning skills is key to landing a job. In this notebook, we will walk through the process of cleaning a dataset, focusing on the following key concepts and challenges:\n",
    "\n",
    "## **Key Concepts and Challenges**\n",
    "1. **Data Integrity**: Ensuring the accuracy, consistency, and reliability of data throughout the cleaning process.  \n",
    "2. **Missing Data Handling**: Dealing with missing values by either imputing them or making informed decisions on how to handle gaps in the dataset.  \n",
    "3. **Duplicate Removal**: Identifying and eliminating duplicate records to maintain data uniqueness.  \n",
    "4. **Standardization**: Consistent formatting and units across the dataset for accurate analysis.  \n",
    "5. **Outlier Detection**: Identifying and addressing outliers that may skew analysis or model performance.\n"
   ]
  },
  {
   "cell_type": "markdown",
   "id": "060838d9-5a74-43f3-ab02-a1529a2d8682",
   "metadata": {},
   "source": [
    "## **Loading and Previewing the Data**\n",
    "\n",
    "We begin by loading the dataset and inspecting the first few rows to get a sense of the data structure.\n",
    "\n"
   ]
  },
  {
   "cell_type": "code",
   "execution_count": 15,
   "id": "54b57704-a9df-4b2d-86a0-e5bd5445fc26",
   "metadata": {},
   "outputs": [],
   "source": [
    "import pandas as pd\n",
    "import matplotlib.pyplot as plt\n",
    "import seaborn as sns"
   ]
  },
  {
   "cell_type": "code",
   "execution_count": 3,
   "id": "ede503f4-01c0-4e7d-a324-740ca0665e8d",
   "metadata": {},
   "outputs": [
    {
     "data": {
      "text/html": [
       "<div>\n",
       "<style scoped>\n",
       "    .dataframe tbody tr th:only-of-type {\n",
       "        vertical-align: middle;\n",
       "    }\n",
       "\n",
       "    .dataframe tbody tr th {\n",
       "        vertical-align: top;\n",
       "    }\n",
       "\n",
       "    .dataframe thead th {\n",
       "        text-align: right;\n",
       "    }\n",
       "</style>\n",
       "<table border=\"1\" class=\"dataframe\">\n",
       "  <thead>\n",
       "    <tr style=\"text-align: right;\">\n",
       "      <th></th>\n",
       "      <th>id</th>\n",
       "      <th>name</th>\n",
       "      <th>host_id</th>\n",
       "      <th>host_name</th>\n",
       "      <th>neighbourhood_group</th>\n",
       "      <th>neighbourhood</th>\n",
       "      <th>latitude</th>\n",
       "      <th>longitude</th>\n",
       "      <th>room_type</th>\n",
       "      <th>price</th>\n",
       "      <th>minimum_nights</th>\n",
       "      <th>number_of_reviews</th>\n",
       "      <th>last_review</th>\n",
       "      <th>reviews_per_month</th>\n",
       "      <th>calculated_host_listings_count</th>\n",
       "      <th>availability_365</th>\n",
       "    </tr>\n",
       "  </thead>\n",
       "  <tbody>\n",
       "    <tr>\n",
       "      <th>0</th>\n",
       "      <td>2539</td>\n",
       "      <td>Clean &amp; quiet apt home by the park</td>\n",
       "      <td>2787</td>\n",
       "      <td>John</td>\n",
       "      <td>Brooklyn</td>\n",
       "      <td>Kensington</td>\n",
       "      <td>40.64749</td>\n",
       "      <td>-73.97237</td>\n",
       "      <td>Private room</td>\n",
       "      <td>149</td>\n",
       "      <td>1</td>\n",
       "      <td>9</td>\n",
       "      <td>2018-10-19</td>\n",
       "      <td>0.21</td>\n",
       "      <td>6</td>\n",
       "      <td>365</td>\n",
       "    </tr>\n",
       "    <tr>\n",
       "      <th>1</th>\n",
       "      <td>2595</td>\n",
       "      <td>Skylit Midtown Castle</td>\n",
       "      <td>2845</td>\n",
       "      <td>Jennifer</td>\n",
       "      <td>Manhattan</td>\n",
       "      <td>Midtown</td>\n",
       "      <td>40.75362</td>\n",
       "      <td>-73.98377</td>\n",
       "      <td>Entire home/apt</td>\n",
       "      <td>225</td>\n",
       "      <td>1</td>\n",
       "      <td>45</td>\n",
       "      <td>2019-05-21</td>\n",
       "      <td>0.38</td>\n",
       "      <td>2</td>\n",
       "      <td>355</td>\n",
       "    </tr>\n",
       "    <tr>\n",
       "      <th>2</th>\n",
       "      <td>3647</td>\n",
       "      <td>THE VILLAGE OF HARLEM....NEW YORK !</td>\n",
       "      <td>4632</td>\n",
       "      <td>Elisabeth</td>\n",
       "      <td>Manhattan</td>\n",
       "      <td>Harlem</td>\n",
       "      <td>40.80902</td>\n",
       "      <td>-73.94190</td>\n",
       "      <td>Private room</td>\n",
       "      <td>150</td>\n",
       "      <td>3</td>\n",
       "      <td>0</td>\n",
       "      <td>NaN</td>\n",
       "      <td>NaN</td>\n",
       "      <td>1</td>\n",
       "      <td>365</td>\n",
       "    </tr>\n",
       "    <tr>\n",
       "      <th>3</th>\n",
       "      <td>3831</td>\n",
       "      <td>Cozy Entire Floor of Brownstone</td>\n",
       "      <td>4869</td>\n",
       "      <td>LisaRoxanne</td>\n",
       "      <td>Brooklyn</td>\n",
       "      <td>Clinton Hill</td>\n",
       "      <td>40.68514</td>\n",
       "      <td>-73.95976</td>\n",
       "      <td>Entire home/apt</td>\n",
       "      <td>89</td>\n",
       "      <td>1</td>\n",
       "      <td>270</td>\n",
       "      <td>2019-07-05</td>\n",
       "      <td>4.64</td>\n",
       "      <td>1</td>\n",
       "      <td>194</td>\n",
       "    </tr>\n",
       "    <tr>\n",
       "      <th>4</th>\n",
       "      <td>5022</td>\n",
       "      <td>Entire Apt: Spacious Studio/Loft by central park</td>\n",
       "      <td>7192</td>\n",
       "      <td>Laura</td>\n",
       "      <td>Manhattan</td>\n",
       "      <td>East Harlem</td>\n",
       "      <td>40.79851</td>\n",
       "      <td>-73.94399</td>\n",
       "      <td>Entire home/apt</td>\n",
       "      <td>80</td>\n",
       "      <td>10</td>\n",
       "      <td>9</td>\n",
       "      <td>2018-11-19</td>\n",
       "      <td>0.10</td>\n",
       "      <td>1</td>\n",
       "      <td>0</td>\n",
       "    </tr>\n",
       "  </tbody>\n",
       "</table>\n",
       "</div>"
      ],
      "text/plain": [
       "     id                                              name  host_id  \\\n",
       "0  2539                Clean & quiet apt home by the park     2787   \n",
       "1  2595                             Skylit Midtown Castle     2845   \n",
       "2  3647               THE VILLAGE OF HARLEM....NEW YORK !     4632   \n",
       "3  3831                   Cozy Entire Floor of Brownstone     4869   \n",
       "4  5022  Entire Apt: Spacious Studio/Loft by central park     7192   \n",
       "\n",
       "     host_name neighbourhood_group neighbourhood  latitude  longitude  \\\n",
       "0         John            Brooklyn    Kensington  40.64749  -73.97237   \n",
       "1     Jennifer           Manhattan       Midtown  40.75362  -73.98377   \n",
       "2    Elisabeth           Manhattan        Harlem  40.80902  -73.94190   \n",
       "3  LisaRoxanne            Brooklyn  Clinton Hill  40.68514  -73.95976   \n",
       "4        Laura           Manhattan   East Harlem  40.79851  -73.94399   \n",
       "\n",
       "         room_type  price  minimum_nights  number_of_reviews last_review  \\\n",
       "0     Private room    149               1                  9  2018-10-19   \n",
       "1  Entire home/apt    225               1                 45  2019-05-21   \n",
       "2     Private room    150               3                  0         NaN   \n",
       "3  Entire home/apt     89               1                270  2019-07-05   \n",
       "4  Entire home/apt     80              10                  9  2018-11-19   \n",
       "\n",
       "   reviews_per_month  calculated_host_listings_count  availability_365  \n",
       "0               0.21                               6               365  \n",
       "1               0.38                               2               355  \n",
       "2                NaN                               1               365  \n",
       "3               4.64                               1               194  \n",
       "4               0.10                               1                 0  "
      ]
     },
     "execution_count": 3,
     "metadata": {},
     "output_type": "execute_result"
    }
   ],
   "source": [
    "#load dataset\n",
    "file_path='C:/Users/ADMIN/Desktop/WORK/Jobs/Oasis_Internship/AB_NYC_2019.csv'\n",
    "df=pd.read_csv(file_path)\n",
    "df.head()"
   ]
  },
  {
   "cell_type": "markdown",
   "id": "adf93731-e8a1-4725-b4b0-5f862d07c6dd",
   "metadata": {},
   "source": [
    "## **Data Integrity**\n",
    "\n",
    "The next step is to ensure that the dataset is consistent and contains no obvious anomalies.\n",
    "\n",
    "### **1. Checking Data Types**\n",
    "We check the data types of the columns to ensure they are appropriate for their respective data.\n"
   ]
  },
  {
   "cell_type": "code",
   "execution_count": 9,
   "id": "7993d4dd-2cd6-4b0f-b166-166384d20202",
   "metadata": {},
   "outputs": [
    {
     "name": "stdout",
     "output_type": "stream",
     "text": [
      "\n",
      "Data Types:\n",
      "id                                  int64\n",
      "name                               object\n",
      "host_id                             int64\n",
      "host_name                          object\n",
      "neighbourhood_group                object\n",
      "neighbourhood                      object\n",
      "latitude                          float64\n",
      "longitude                         float64\n",
      "room_type                          object\n",
      "price                               int64\n",
      "minimum_nights                      int64\n",
      "number_of_reviews                   int64\n",
      "last_review                        object\n",
      "reviews_per_month                 float64\n",
      "calculated_host_listings_count      int64\n",
      "availability_365                    int64\n",
      "dtype: object\n",
      "\n",
      "Check for anomalies (negative price or minimum nights):\n",
      "Empty DataFrame\n",
      "Columns: [id, name, host_id, host_name, neighbourhood_group, neighbourhood, latitude, longitude, room_type, price, minimum_nights, number_of_reviews, last_review, reviews_per_month, calculated_host_listings_count, availability_365]\n",
      "Index: []\n",
      "\n",
      "Unique values in categorical columns:\n",
      "['Brooklyn' 'Manhattan' 'Queens' 'Staten Island' 'Bronx']\n",
      "['Private room' 'Entire home/apt' 'Shared room']\n",
      "\n",
      "Check for invalid latitude/longitude values:\n",
      "Empty DataFrame\n",
      "Columns: [id, name, host_id, host_name, neighbourhood_group, neighbourhood, latitude, longitude, room_type, price, minimum_nights, number_of_reviews, last_review, reviews_per_month, calculated_host_listings_count, availability_365]\n",
      "Index: []\n"
     ]
    }
   ],
   "source": [
    "#Data Integrity\n",
    "# Check the data types of the columns\n",
    "print(\"\\nData Types:\")\n",
    "print(df.dtypes)\n",
    "\n",
    "# Check for any obvious anomalies like negative values for price or minimum nights\n",
    "print(\"\\nCheck for anomalies (negative price or minimum nights):\")\n",
    "print(df[(df['price'] < 0) | (df['minimum_nights'] < 0)])\n",
    "\n",
    "# Check for unique values in categorical columns (e.g., neighbourhood_group, room_type)\n",
    "print(\"\\nUnique values in categorical columns:\")\n",
    "print(df['neighbourhood_group'].unique())\n",
    "print(df['room_type'].unique())\n",
    "\n",
    "# Check for any invalid or out-of-bound latitude/longitude values\n",
    "print(\"\\nCheck for invalid latitude/longitude values:\")\n",
    "print(df[(df['latitude'] < -90) | (df['latitude'] > 90) | (df['longitude'] < -180) | (df['longitude'] > 180)])"
   ]
  },
  {
   "cell_type": "markdown",
   "id": "85b731fa-4103-475e-9b5e-d1de29d8b775",
   "metadata": {},
   "source": [
    "## **Handling Missing Data**\n",
    "\n",
    "Now, we move on to handling the missing data. There are two strategies: imputation (filling missing values) and deletion."
   ]
  },
  {
   "cell_type": "code",
   "execution_count": 6,
   "id": "d31b65a0-ceeb-486c-a3e6-ff1e3b89667b",
   "metadata": {},
   "outputs": [
    {
     "name": "stdout",
     "output_type": "stream",
     "text": [
      "\n",
      "Missing Values After Handling:\n",
      "id                                 0\n",
      "name                              16\n",
      "host_id                            0\n",
      "host_name                         21\n",
      "neighbourhood_group                0\n",
      "neighbourhood                      0\n",
      "latitude                           0\n",
      "longitude                          0\n",
      "room_type                          0\n",
      "price                              0\n",
      "minimum_nights                     0\n",
      "number_of_reviews                  0\n",
      "last_review                        0\n",
      "reviews_per_month                  0\n",
      "calculated_host_listings_count     0\n",
      "availability_365                   0\n",
      "dtype: int64\n"
     ]
    },
    {
     "name": "stderr",
     "output_type": "stream",
     "text": [
      "C:\\Users\\ADMIN\\AppData\\Local\\Temp\\ipykernel_12816\\3960056489.py:3: FutureWarning: A value is trying to be set on a copy of a DataFrame or Series through chained assignment using an inplace method.\n",
      "The behavior will change in pandas 3.0. This inplace method will never work because the intermediate object on which we are setting values always behaves as a copy.\n",
      "\n",
      "For example, when doing 'df[col].method(value, inplace=True)', try using 'df.method({col: value}, inplace=True)' or df[col] = df[col].method(value) instead, to perform the operation inplace on the original object.\n",
      "\n",
      "\n",
      "  df['reviews_per_month'].fillna(df['reviews_per_month'].mean(), inplace=True)  # Filling missing reviews_per_month with the mean\n",
      "C:\\Users\\ADMIN\\AppData\\Local\\Temp\\ipykernel_12816\\3960056489.py:4: FutureWarning: A value is trying to be set on a copy of a DataFrame or Series through chained assignment using an inplace method.\n",
      "The behavior will change in pandas 3.0. This inplace method will never work because the intermediate object on which we are setting values always behaves as a copy.\n",
      "\n",
      "For example, when doing 'df[col].method(value, inplace=True)', try using 'df.method({col: value}, inplace=True)' or df[col] = df[col].method(value) instead, to perform the operation inplace on the original object.\n",
      "\n",
      "\n",
      "  df['last_review'].fillna(df['last_review'].mode()[0], inplace=True)  # Filling missing last_review with the mode\n"
     ]
    }
   ],
   "source": [
    "# Handling missing data:\n",
    "# 1. For columns with a small number of missing values, we can fill them with the mean (for numeric columns) or the mode (for categorical columns)\n",
    "df['reviews_per_month'].fillna(df['reviews_per_month'].mean(), inplace=True)  # Filling missing reviews_per_month with the mean\n",
    "df['last_review'].fillna(df['last_review'].mode()[0], inplace=True)  # Filling missing last_review with the mode\n",
    "\n",
    "\n",
    "# Check if missing values are handled\n",
    "print(\"\\nMissing Values After Handling:\")\n",
    "print(df.isnull().sum())"
   ]
  },
  {
   "cell_type": "code",
   "execution_count": 8,
   "id": "a73c1383-cb6c-433b-9038-b40614d4f3ad",
   "metadata": {},
   "outputs": [
    {
     "name": "stdout",
     "output_type": "stream",
     "text": [
      "\n",
      "Missing Values After Final Handling:\n",
      "id                                0\n",
      "name                              0\n",
      "host_id                           0\n",
      "host_name                         0\n",
      "neighbourhood_group               0\n",
      "neighbourhood                     0\n",
      "latitude                          0\n",
      "longitude                         0\n",
      "room_type                         0\n",
      "price                             0\n",
      "minimum_nights                    0\n",
      "number_of_reviews                 0\n",
      "last_review                       0\n",
      "reviews_per_month                 0\n",
      "calculated_host_listings_count    0\n",
      "availability_365                  0\n",
      "dtype: int64\n"
     ]
    },
    {
     "name": "stderr",
     "output_type": "stream",
     "text": [
      "C:\\Users\\ADMIN\\AppData\\Local\\Temp\\ipykernel_12816\\1442404881.py:3: FutureWarning: A value is trying to be set on a copy of a DataFrame or Series through chained assignment using an inplace method.\n",
      "The behavior will change in pandas 3.0. This inplace method will never work because the intermediate object on which we are setting values always behaves as a copy.\n",
      "\n",
      "For example, when doing 'df[col].method(value, inplace=True)', try using 'df.method({col: value}, inplace=True)' or df[col] = df[col].method(value) instead, to perform the operation inplace on the original object.\n",
      "\n",
      "\n",
      "  df['name'].fillna('Unknown', inplace=True)\n",
      "C:\\Users\\ADMIN\\AppData\\Local\\Temp\\ipykernel_12816\\1442404881.py:6: FutureWarning: A value is trying to be set on a copy of a DataFrame or Series through chained assignment using an inplace method.\n",
      "The behavior will change in pandas 3.0. This inplace method will never work because the intermediate object on which we are setting values always behaves as a copy.\n",
      "\n",
      "For example, when doing 'df[col].method(value, inplace=True)', try using 'df.method({col: value}, inplace=True)' or df[col] = df[col].method(value) instead, to perform the operation inplace on the original object.\n",
      "\n",
      "\n",
      "  df['host_name'].fillna('Unknown Host', inplace=True)\n"
     ]
    }
   ],
   "source": [
    "#Handling Remaining Missing Values\n",
    "# Fill missing 'name' with 'Unknown'\n",
    "df['name'].fillna('Unknown', inplace=True)\n",
    "\n",
    "# Fill missing 'host_name' with 'Unknown Host'\n",
    "df['host_name'].fillna('Unknown Host', inplace=True)\n",
    "\n",
    "# Verify that all missing values are handled\n",
    "print(\"\\nMissing Values After Final Handling:\")\n",
    "print(df.isnull().sum())\n"
   ]
  },
  {
   "cell_type": "code",
   "execution_count": 10,
   "id": "de16791f-1d49-4790-bd27-905564bc18d2",
   "metadata": {},
   "outputs": [
    {
     "name": "stdout",
     "output_type": "stream",
     "text": [
      "\n",
      "Duplicates:\n",
      "Number of duplicate rows: 0\n"
     ]
    }
   ],
   "source": [
    "print('\\nDuplicates:')\n",
    "print(f'Number of duplicate rows: {df.duplicated().sum()}')"
   ]
  },
  {
   "cell_type": "markdown",
   "id": "b3d14f89-6ec3-41f0-93a5-9008c659a22a",
   "metadata": {},
   "source": [
    "## **Standardizing Data**\n",
    "\n",
    "We standardize the column names and ensure that categorical columns are in lowercase for consistency.\n"
   ]
  },
  {
   "cell_type": "code",
   "execution_count": 11,
   "id": "a3047973-6041-4b8d-9f44-7109df669c9b",
   "metadata": {},
   "outputs": [
    {
     "name": "stdout",
     "output_type": "stream",
     "text": [
      "\n",
      "Standardized Column Names and Sample Data:\n",
      "     id                                              name  host_id  \\\n",
      "0  2539                Clean & quiet apt home by the park     2787   \n",
      "1  2595                             Skylit Midtown Castle     2845   \n",
      "2  3647               THE VILLAGE OF HARLEM....NEW YORK !     4632   \n",
      "3  3831                   Cozy Entire Floor of Brownstone     4869   \n",
      "4  5022  Entire Apt: Spacious Studio/Loft by central park     7192   \n",
      "\n",
      "     host_name neighbourhood_group neighbourhood  latitude  longitude  \\\n",
      "0         John            brooklyn    kensington  40.64749  -73.97237   \n",
      "1     Jennifer           manhattan       midtown  40.75362  -73.98377   \n",
      "2    Elisabeth           manhattan        harlem  40.80902  -73.94190   \n",
      "3  LisaRoxanne            brooklyn  clinton hill  40.68514  -73.95976   \n",
      "4        Laura           manhattan   east harlem  40.79851  -73.94399   \n",
      "\n",
      "         room_type  price  minimum_nights  number_of_reviews last_review  \\\n",
      "0     private room    149               1                  9  2018-10-19   \n",
      "1  entire home/apt    225               1                 45  2019-05-21   \n",
      "2     private room    150               3                  0  2019-06-23   \n",
      "3  entire home/apt     89               1                270  2019-07-05   \n",
      "4  entire home/apt     80              10                  9  2018-11-19   \n",
      "\n",
      "   reviews_per_month  calculated_host_listings_count  availability_365  \n",
      "0           0.210000                               6               365  \n",
      "1           0.380000                               2               355  \n",
      "2           1.373221                               1               365  \n",
      "3           4.640000                               1               194  \n",
      "4           0.100000                               1                 0  \n"
     ]
    }
   ],
   "source": [
    "# Standardize column names to lowercase with underscores\n",
    "df.columns = df.columns.str.lower().str.replace(' ', '_')\n",
    "\n",
    "# Ensure categorical text data is in consistent lowercase format\n",
    "categorical_columns = ['neighbourhood_group', 'neighbourhood', 'room_type']\n",
    "for col in categorical_columns:\n",
    "    df[col] = df[col].str.lower()\n",
    "\n",
    "# Verify the changes\n",
    "print(\"\\nStandardized Column Names and Sample Data:\")\n",
    "print(df.head())\n"
   ]
  },
  {
   "cell_type": "markdown",
   "id": "fb74fa84-e0cf-412c-aaa3-cc875f7ece5c",
   "metadata": {},
   "source": [
    "## **Outlier Detection and Removal**\n",
    "\n",
    "We now visualize the numerical columns to detect any outliers and take appropriate action.\n"
   ]
  },
  {
   "cell_type": "code",
   "execution_count": 16,
   "id": "4cc4d13c-64b4-4583-8183-ce9e2f71dec2",
   "metadata": {},
   "outputs": [
    {
     "data": {
      "image/png": "[encoded data removed]",
      "text/plain": [
       "<Figure size 800x400 with 1 Axes>"
      ]
     },
     "metadata": {},
     "output_type": "display_data"
    },
    {
     "data": {
      "image/png": "[encoded data removed]",
      "text/plain": [
       "<Figure size 800x400 with 1 Axes>"
      ]
     },
     "metadata": {},
     "output_type": "display_data"
    },
    {
     "data": {
      "image/png": "[encoded data removed]",
      "text/plain": [
       "<Figure size 800x400 with 1 Axes>"
      ]
     },
     "metadata": {},
     "output_type": "display_data"
    },
    {
     "name": "stdout",
     "output_type": "stream",
     "text": [
      "\n",
      "Outliers in price:\n",
      "     price\n",
      "61     375\n",
      "85     800\n",
      "103    500\n",
      "114    350\n",
      "121    400\n",
      "\n",
      "Outliers in minimum_nights:\n",
      "    minimum_nights\n",
      "6               45\n",
      "14              90\n",
      "29              14\n",
      "36              60\n",
      "45              29\n",
      "\n",
      "Outliers in availability_365:\n",
      "Empty DataFrame\n",
      "Columns: [availability_365]\n",
      "Index: []\n"
     ]
    }
   ],
   "source": [
    "#Boxplot for numerical columns to visualize outliers\n",
    "numerical_columns = ['price', 'minimum_nights', 'availability_365']\n",
    "for col in numerical_columns:\n",
    "    plt.figure(figsize=(8, 4))\n",
    "    sns.boxplot(data=df, x=col)\n",
    "    plt.title(f'Boxplot of {col}')\n",
    "    plt.show()\n",
    "\n",
    "# Identify outliers using IQR for each column\n",
    "outliers = {}\n",
    "for col in numerical_columns:\n",
    "    Q1 = df[col].quantile(0.25)\n",
    "    Q3 = df[col].quantile(0.75)\n",
    "    IQR = Q3 - Q1\n",
    "    lower_bound = Q1 - 1.5 * IQR\n",
    "    upper_bound = Q3 + 1.5 * IQR\n",
    "    outliers[col] = df[(df[col] < lower_bound) | (df[col] > upper_bound)]\n",
    "\n",
    "    print(f\"\\nOutliers in {col}:\")\n",
    "    print(outliers[col][[col]].head())\n"
   ]
  },
  {
   "cell_type": "code",
   "execution_count": 17,
   "id": "9a9b07e8-26a1-4f90-b51d-9d13047d0010",
   "metadata": {},
   "outputs": [
    {
     "name": "stdout",
     "output_type": "stream",
     "text": [
      "Extreme price outliers removed.\n",
      "Minimum nights capped at 30\n"
     ]
    }
   ],
   "source": [
    "#Handle outliers\n",
    "# Remove rows with extreme price outliers\n",
    "Q1 = df['price'].quantile(0.25)\n",
    "Q3 = df['price'].quantile(0.75)\n",
    "IQR = Q3 - Q1\n",
    "lower_bound = Q1 - 1.5 * IQR\n",
    "upper_bound = Q3 + 1.5 * IQR\n",
    "\n",
    "df = df[(df['price'] >= lower_bound) & (df['price'] <= upper_bound)]\n",
    "print(\"Extreme price outliers removed.\")\n",
    "\n",
    "# Set a logical upper limit for minimum nights\n",
    "min_nights_upper_limit = 30  # Assume a realistic max of 1 month\n",
    "\n",
    "# Cap minimum_nights at the upper limit\n",
    "df['minimum_nights'] = df['minimum_nights'].apply(lambda x: min(x, min_nights_upper_limit))\n",
    "\n",
    "print(f\"Minimum nights capped at {min_nights_upper_limit}\")\n"
   ]
  },
  {
   "cell_type": "markdown",
   "id": "dc71199f-0dd7-4786-9c34-b54488948b03",
   "metadata": {},
   "source": [
    "## **Final Boxplots**\n",
    "\n",
    "We create final boxplots for numerical columns to verify that outliers have been successfully removed or handled."
   ]
  },
  {
   "cell_type": "code",
   "execution_count": 18,
   "id": "824b352d-8132-452c-a23a-4df5de66dae9",
   "metadata": {},
   "outputs": [
    {
     "data": {
      "image/png": "[encoded data removed]",
      "text/plain": [
       "<Figure size 800x400 with 1 Axes>"
      ]
     },
     "metadata": {},
     "output_type": "display_data"
    },
    {
     "data": {
      "image/png": "[encoded data removed]",
      "text/plain": [
       "<Figure size 800x400 with 1 Axes>"
      ]
     },
     "metadata": {},
     "output_type": "display_data"
    },
    {
     "data": {
      "image/png": "[encoded data removed]",
      "text/plain": [
       "<Figure size 800x400 with 1 Axes>"
      ]
     },
     "metadata": {},
     "output_type": "display_data"
    }
   ],
   "source": [
    "numerical_columns = ['price', 'minimum_nights', 'availability_365']\n",
    "for col in numerical_columns:\n",
    "    plt.figure(figsize=(8, 4))\n",
    "    sns.boxplot(data=df, x=col)\n",
    "    plt.title(f'Boxplot of {col}')\n",
    "    plt.show()"
   ]
  },
  {
   "cell_type": "code",
   "execution_count": null,
   "id": "ae586d4a-3679-4de5-a2f7-26d08f4f53a3",
   "metadata": {},
   "outputs": [],
   "source": []
  }
 ],
 "metadata": {
  "kernelspec": {
   "display_name": "Python 3 (ipykernel)",
   "language": "python",
   "name": "python3"
  },
  "language_info": {
   "codemirror_mode": {
    "name": "ipython",
    "version": 3
   },
   "file_extension": ".py",
   "mimetype": "text/x-python",
   "name": "python",
   "nbconvert_exporter": "python",
   "pygments_lexer": "ipython3",
   "version": "3.12.3"
  }
 },
 "nbformat": 4,
 "nbformat_minor": 5
}
